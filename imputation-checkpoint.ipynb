{
 "cells": [
  {
   "cell_type": "code",
   "execution_count": 2,
   "id": "5eb23b55-3bdb-411b-8b6a-45384396d04f",
   "metadata": {
    "tags": []
   },
   "outputs": [],
   "source": [
    "# new in 0.22\n",
    "from sklearn.experimental import enable_iterative_imputer\n",
    "from sklearn.impute import IterativeImputer\n",
    "#SimpleImputer\n",
    "#KNNImputer"
   ]
  },
  {
   "cell_type": "code",
   "execution_count": 19,
   "id": "583503b5-9cc9-4141-8450-526d4bda5297",
   "metadata": {
    "tags": []
   },
   "outputs": [],
   "source": [
    "import pandas as pd\n",
    "thing = 'theultimatedata'\n",
    "df = pd.read_csv('C:/Users/Keenlol/Desktop/Project SMART CITY/Dataset/cleaned_real/'+thing+'2012-2021_.csv')\n",
    "#new_df = df.drop('date', axis=1)\n",
    "X=df[['avg']]"
   ]
  },
  {
   "cell_type": "code",
   "execution_count": 43,
   "id": "07be8c79-05d0-4a45-943b-51c3259f777d",
   "metadata": {
    "jupyter": {
     "source_hidden": true
    },
    "tags": []
   },
   "outputs": [],
   "source": [
    "cols = new_df.columns.tolist()\n",
    "X = new_df[cols]"
   ]
  },
  {
   "cell_type": "code",
   "execution_count": 20,
   "id": "8ab45329-8173-45cc-b354-573cace88580",
   "metadata": {
    "tags": []
   },
   "outputs": [
    {
     "data": {
      "text/html": [
       "<div>\n",
       "<style scoped>\n",
       "    .dataframe tbody tr th:only-of-type {\n",
       "        vertical-align: middle;\n",
       "    }\n",
       "\n",
       "    .dataframe tbody tr th {\n",
       "        vertical-align: top;\n",
       "    }\n",
       "\n",
       "    .dataframe thead th {\n",
       "        text-align: right;\n",
       "    }\n",
       "</style>\n",
       "<table border=\"1\" class=\"dataframe\">\n",
       "  <thead>\n",
       "    <tr style=\"text-align: right;\">\n",
       "      <th></th>\n",
       "      <th>avg</th>\n",
       "    </tr>\n",
       "  </thead>\n",
       "  <tbody>\n",
       "    <tr>\n",
       "      <th>0</th>\n",
       "      <td>18.993750</td>\n",
       "    </tr>\n",
       "    <tr>\n",
       "      <th>1</th>\n",
       "      <td>17.156667</td>\n",
       "    </tr>\n",
       "    <tr>\n",
       "      <th>2</th>\n",
       "      <td>19.821111</td>\n",
       "    </tr>\n",
       "    <tr>\n",
       "      <th>3</th>\n",
       "      <td>18.136250</td>\n",
       "    </tr>\n",
       "    <tr>\n",
       "      <th>4</th>\n",
       "      <td>16.170000</td>\n",
       "    </tr>\n",
       "    <tr>\n",
       "      <th>...</th>\n",
       "      <td>...</td>\n",
       "    </tr>\n",
       "    <tr>\n",
       "      <th>87667</th>\n",
       "      <td>22.959375</td>\n",
       "    </tr>\n",
       "    <tr>\n",
       "      <th>87668</th>\n",
       "      <td>21.548485</td>\n",
       "    </tr>\n",
       "    <tr>\n",
       "      <th>87669</th>\n",
       "      <td>20.772727</td>\n",
       "    </tr>\n",
       "    <tr>\n",
       "      <th>87670</th>\n",
       "      <td>20.039394</td>\n",
       "    </tr>\n",
       "    <tr>\n",
       "      <th>87671</th>\n",
       "      <td>19.418182</td>\n",
       "    </tr>\n",
       "  </tbody>\n",
       "</table>\n",
       "<p>87672 rows × 1 columns</p>\n",
       "</div>"
      ],
      "text/plain": [
       "             avg\n",
       "0      18.993750\n",
       "1      17.156667\n",
       "2      19.821111\n",
       "3      18.136250\n",
       "4      16.170000\n",
       "...          ...\n",
       "87667  22.959375\n",
       "87668  21.548485\n",
       "87669  20.772727\n",
       "87670  20.039394\n",
       "87671  19.418182\n",
       "\n",
       "[87672 rows x 1 columns]"
      ]
     },
     "execution_count": 20,
     "metadata": {},
     "output_type": "execute_result"
    }
   ],
   "source": [
    "X"
   ]
  },
  {
   "cell_type": "code",
   "execution_count": 21,
   "id": "eaead781-6577-4e67-bc2a-c859000178a8",
   "metadata": {
    "tags": []
   },
   "outputs": [],
   "source": [
    "impute = IterativeImputer(sample_posterior=True)\n",
    "#KNNImputer(n_neighbors=2)\n",
    "\n",
    "\n",
    "imputed_data = impute.fit_transform(X)"
   ]
  },
  {
   "cell_type": "code",
   "execution_count": 22,
   "id": "9aa6acc4-e825-46bc-9c27-413436d4f655",
   "metadata": {
    "tags": []
   },
   "outputs": [],
   "source": [
    "imputed_dataframe = pd.DataFrame(imputed_data, columns=X.columns)"
   ]
  },
  {
   "cell_type": "code",
   "execution_count": 23,
   "id": "0578b452-e4c8-4c93-864e-ec170fc77fe9",
   "metadata": {
    "tags": []
   },
   "outputs": [],
   "source": [
    "imputed_dataframe = pd.concat([df[['year','day','hour']], imputed_dataframe], axis=1)"
   ]
  },
  {
   "cell_type": "code",
   "execution_count": 24,
   "id": "193ca001-e38f-4e89-a466-54133dff15c3",
   "metadata": {
    "tags": []
   },
   "outputs": [
    {
     "data": {
      "text/html": [
       "<div>\n",
       "<style scoped>\n",
       "    .dataframe tbody tr th:only-of-type {\n",
       "        vertical-align: middle;\n",
       "    }\n",
       "\n",
       "    .dataframe tbody tr th {\n",
       "        vertical-align: top;\n",
       "    }\n",
       "\n",
       "    .dataframe thead th {\n",
       "        text-align: right;\n",
       "    }\n",
       "</style>\n",
       "<table border=\"1\" class=\"dataframe\">\n",
       "  <thead>\n",
       "    <tr style=\"text-align: right;\">\n",
       "      <th></th>\n",
       "      <th>year</th>\n",
       "      <th>day</th>\n",
       "      <th>hour</th>\n",
       "      <th>avg</th>\n",
       "    </tr>\n",
       "  </thead>\n",
       "  <tbody>\n",
       "    <tr>\n",
       "      <th>0</th>\n",
       "      <td>2012</td>\n",
       "      <td>1</td>\n",
       "      <td>0</td>\n",
       "      <td>18.993750</td>\n",
       "    </tr>\n",
       "    <tr>\n",
       "      <th>1</th>\n",
       "      <td>2012</td>\n",
       "      <td>1</td>\n",
       "      <td>1</td>\n",
       "      <td>17.156667</td>\n",
       "    </tr>\n",
       "    <tr>\n",
       "      <th>2</th>\n",
       "      <td>2012</td>\n",
       "      <td>1</td>\n",
       "      <td>2</td>\n",
       "      <td>19.821111</td>\n",
       "    </tr>\n",
       "    <tr>\n",
       "      <th>3</th>\n",
       "      <td>2012</td>\n",
       "      <td>1</td>\n",
       "      <td>3</td>\n",
       "      <td>18.136250</td>\n",
       "    </tr>\n",
       "    <tr>\n",
       "      <th>4</th>\n",
       "      <td>2012</td>\n",
       "      <td>1</td>\n",
       "      <td>4</td>\n",
       "      <td>16.170000</td>\n",
       "    </tr>\n",
       "  </tbody>\n",
       "</table>\n",
       "</div>"
      ],
      "text/plain": [
       "   year  day  hour        avg\n",
       "0  2012    1     0  18.993750\n",
       "1  2012    1     1  17.156667\n",
       "2  2012    1     2  19.821111\n",
       "3  2012    1     3  18.136250\n",
       "4  2012    1     4  16.170000"
      ]
     },
     "execution_count": 24,
     "metadata": {},
     "output_type": "execute_result"
    }
   ],
   "source": [
    "imputed_dataframe.head()"
   ]
  },
  {
   "cell_type": "code",
   "execution_count": 25,
   "id": "60bd8f09-aad0-409e-98b0-4f78388ddd78",
   "metadata": {
    "tags": []
   },
   "outputs": [],
   "source": [
    "imputed_dataframe.to_csv('C:/Users/Keenlol/Desktop/Project SMART CITY/Dataset/cleaned_real/i_'+thing+'_2012-2021.csv', index=False)"
   ]
  },
  {
   "cell_type": "code",
   "execution_count": null,
   "id": "7dd71c22-e1e4-4d08-a200-4c4d3a896f24",
   "metadata": {},
   "outputs": [],
   "source": []
  }
 ],
 "metadata": {
  "kernelspec": {
   "display_name": "Python 3 (ipykernel)",
   "language": "python",
   "name": "python3"
  },
  "language_info": {
   "codemirror_mode": {
    "name": "ipython",
    "version": 3
   },
   "file_extension": ".py",
   "mimetype": "text/x-python",
   "name": "python",
   "nbconvert_exporter": "python",
   "pygments_lexer": "ipython3",
   "version": "3.11.3"
  }
 },
 "nbformat": 4,
 "nbformat_minor": 5
}
